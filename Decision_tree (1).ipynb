{
  "nbformat": 4,
  "nbformat_minor": 0,
  "metadata": {
    "colab": {
      "provenance": []
    },
    "kernelspec": {
      "name": "python3",
      "display_name": "Python 3"
    },
    "language_info": {
      "name": "python"
    }
  },
  "cells": [
    {
      "cell_type": "code",
      "source": [
        "!apt-get install -y graphviz #installs the Graphviz software\n",
        "!pip install graphviz   #generate and display trees."
      ],
      "metadata": {
        "colab": {
          "base_uri": "https://localhost:8080/"
        },
        "id": "CqAAt8tR7U_G",
        "outputId": "db165bb8-bc0b-4d89-e72a-50053f1b2cba"
      },
      "execution_count": 12,
      "outputs": [
        {
          "output_type": "stream",
          "name": "stdout",
          "text": [
            "Reading package lists... Done\n",
            "Building dependency tree... Done\n",
            "Reading state information... Done\n",
            "graphviz is already the newest version (2.42.2-6ubuntu0.1).\n",
            "0 upgraded, 0 newly installed, 0 to remove and 38 not upgraded.\n",
            "Requirement already satisfied: graphviz in /usr/local/lib/python3.12/dist-packages (0.21)\n"
          ]
        }
      ]
    },
    {
      "cell_type": "code",
      "execution_count": 27,
      "metadata": {
        "id": "ExNghzWt4tG-"
      },
      "outputs": [],
      "source": [
        "import pandas as pd\n",
        "from graphviz import Digraph, Source  #Digraph:directed graph,source display the graph on colab\n",
        "from IPython.display import display"
      ]
    },
    {
      "cell_type": "markdown",
      "source": [
        "**FIND GINI INDEX**"
      ],
      "metadata": {
        "id": "ptcxF_dh51qS"
      }
    },
    {
      "cell_type": "code",
      "source": [
        "def gini_index(groups, classes, target):\n",
        "    n_instances = float(sum(len(g) for g in groups))\n",
        "    if n_instances == 0:\n",
        "        return 0.0\n",
        "    gini = 0.0\n",
        "    for group in groups:\n",
        "        size = float(len(group))\n",
        "        if size == 0:\n",
        "            continue\n",
        "        score = 0.0\n",
        "        labels = group[target].tolist()\n",
        "        for class_val in classes:\n",
        "            p = labels.count(class_val) / size\n",
        "            score += p * p\n",
        "        gini += (1.0 - score) * (size / n_instances)\n",
        "    return gini"
      ],
      "metadata": {
        "id": "FeZbD76r5_eE"
      },
      "execution_count": 14,
      "outputs": []
    },
    {
      "cell_type": "markdown",
      "source": [
        "**SPLIT DATASET BY ATTRIBUTE**"
      ],
      "metadata": {
        "id": "soOWQSgU6B-L"
      }
    },
    {
      "cell_type": "code",
      "source": [
        "def split_by_attribute(attribute, dataset):\n",
        "    values = list(dataset[attribute].unique())\n",
        "    groups = [ dataset[dataset[attribute] == v].reset_index(drop=True) for v in values ]\n",
        "    return values, groups"
      ],
      "metadata": {
        "id": "tXuGx8uh50uU"
      },
      "execution_count": 15,
      "outputs": []
    },
    {
      "cell_type": "markdown",
      "source": [
        "**FIND BEST SPLIT**"
      ],
      "metadata": {
        "id": "trr5NTRx6LEG"
      }
    },
    {
      "cell_type": "code",
      "source": [
        "def get_best_split(dataset, attributes, target):\n",
        "    class_values = list(dataset[target].unique())\n",
        "    best_attr = None\n",
        "    best_gini = float('inf')\n",
        "    best_values = None\n",
        "    best_groups = None\n",
        "    for attr in attributes:\n",
        "        values, groups = split_by_attribute(attr, dataset)\n",
        "        g = gini_index(groups, class_values, target)\n",
        "        if g < best_gini:\n",
        "            best_gini = g\n",
        "            best_attr = attr\n",
        "            best_values = values\n",
        "            best_groups = groups\n",
        "    if best_attr is None:\n",
        "        return None\n",
        "    return {'attribute': best_attr, 'values': best_values, 'groups': best_groups, 'gini': best_gini}\n",
        "\n",
        "    # ---- Majority class ----\n",
        "def majority_class(dataset, target):\n",
        "    return dataset[target].mode()[0]"
      ],
      "metadata": {
        "id": "lpR6ObxR6PLO"
      },
      "execution_count": 16,
      "outputs": []
    },
    {
      "cell_type": "markdown",
      "source": [
        "**RECURSIVE TREE BUILDER**"
      ],
      "metadata": {
        "id": "R4BXt_UJ6Z-w"
      }
    },
    {
      "cell_type": "code",
      "source": [
        "def build_tree(dataset, target, attributes=None):\n",
        "    if attributes is None:\n",
        "        attributes = [col for col in dataset.columns if col != target]\n",
        "\n",
        "    # If node is pure\n",
        "    if len(dataset[target].unique()) == 1:\n",
        "        return {'leaf': True, 'class': dataset[target].iloc[0], 'samples': len(dataset)}\n",
        "\n",
        "    # If no attributes left\n",
        "    if not attributes:\n",
        "        return {'leaf': True, 'class': majority_class(dataset, target), 'samples': len(dataset)}\n",
        "\n",
        "    split = get_best_split(dataset, attributes, target)\n",
        "    if split is None:\n",
        "        return {'leaf': True, 'class': majority_class(dataset, target), 'samples': len(dataset)}\n",
        "\n",
        "    node = {\n",
        "        'leaf': False,\n",
        "        'attribute': split['attribute'],\n",
        "        'gini': split['gini'],\n",
        "        'samples': len(dataset),\n",
        "        'branches': {}\n",
        "    }\n",
        "    for val, group in zip(split['values'], split['groups']):\n",
        "        if len(group) == 0:\n",
        "            node['branches'][val] = {'leaf': True, 'class': majority_class(dataset, target), 'samples': 0}\n",
        "        else:\n",
        "            remaining_attrs = [a for a in attributes if a != split['attribute']]\n",
        "            node['branches'][val] = build_tree(group, target, remaining_attrs)\n",
        "    return node\n"
      ],
      "metadata": {
        "id": "z81pW6-f6edh"
      },
      "execution_count": 17,
      "outputs": []
    },
    {
      "cell_type": "markdown",
      "source": [
        "**VISUALIZATION OF TREE**"
      ],
      "metadata": {
        "id": "W8fqr-8U6j9X"
      }
    },
    {
      "cell_type": "code",
      "source": [
        "def visualize_tree_graphviz(node):\n",
        "    graph = Digraph()\n",
        "    counter = {'i':0}\n",
        "    def add(node):\n",
        "        nid = f\"n{counter['i']}\"\n",
        "        counter['i'] += 1\n",
        "        if node.get('leaf'):\n",
        "            label = f\"{node['class']}\"\n",
        "            graph.node(nid, label, shape='box', style='filled', color='lightgrey')\n",
        "        else:\n",
        "            label = f\"{node['attribute']}\"\n",
        "            graph.node(nid, label, shape='ellipse', style='filled', color='lightblue')\n",
        "            for val, child in node['branches'].items():\n",
        "                child_id = add(child)\n",
        "                graph.edge(nid, child_id, label=str(val))\n",
        "        return nid\n",
        "    add(node)\n",
        "    return graph\n"
      ],
      "metadata": {
        "id": "8Swte2x_6oBW"
      },
      "execution_count": 24,
      "outputs": []
    },
    {
      "cell_type": "markdown",
      "source": [
        "DATASET 01"
      ],
      "metadata": {
        "id": "B_SpvaUT6tnS"
      }
    },
    {
      "cell_type": "code",
      "source": [
        "data = pd.DataFrame ({\n",
        "\n",
        "    'Outlook':    ['Sunny','Sunny','Overcast','Rainy','Rainy','Rainy','Overcast',\n",
        "                   'Sunny','Sunny','Rainy','Sunny','Overcast','Overcast','Rainy'],\n",
        "    'Temperature':['Hot','Hot','Hot','Mild','Cool','Cool','Cool',\n",
        "                   'Mild','Cool','Mild','Mild','Mild','Hot','Mild'],\n",
        "    'Humidity':   ['High','High','High','High','Normal','Normal','Normal',\n",
        "                   'High','Normal','Normal','Normal','High','Normal','High'],\n",
        "    'Windy':      ['False','True','False','False','False','True','True',\n",
        "                   'False','False','False','True','True','False','True'],\n",
        "    'PlayTennis': ['No','No','Yes','Yes','Yes','No','Yes',\n",
        "                   'No','Yes','Yes','Yes','Yes','Yes','No']\n",
        "})\n",
        "\n",
        "target_col = \"PlayTennis\"\n",
        "tree = build_tree(data, target=target_col)\n",
        "#print_tree(tree)\n",
        "\n",
        "graph = visualize_tree_graphviz(tree)\n",
        "display(Source(graph.source))"
      ],
      "metadata": {
        "colab": {
          "base_uri": "https://localhost:8080/",
          "height": 312
        },
        "id": "lZpOqgqs62Ed",
        "outputId": "be235fc6-4486-4b74-9157-19e2a02005fd"
      },
      "execution_count": 25,
      "outputs": [
        {
          "output_type": "display_data",
          "data": {
            "image/svg+xml": "<?xml version=\"1.0\" encoding=\"UTF-8\" standalone=\"no\"?>\n<!DOCTYPE svg PUBLIC \"-//W3C//DTD SVG 1.1//EN\"\n \"http://www.w3.org/Graphics/SVG/1.1/DTD/svg11.dtd\">\n<!-- Generated by graphviz version 2.43.0 (0)\n -->\n<!-- Title: %3 Pages: 1 -->\n<svg width=\"302pt\" height=\"218pt\"\n viewBox=\"0.00 0.00 302.00 218.00\" xmlns=\"http://www.w3.org/2000/svg\" xmlns:xlink=\"http://www.w3.org/1999/xlink\">\n<g id=\"graph0\" class=\"graph\" transform=\"scale(1 1) rotate(0) translate(4 214)\">\n<title>%3</title>\n<polygon fill=\"white\" stroke=\"transparent\" points=\"-4,4 -4,-214 298,-214 298,4 -4,4\"/>\n<!-- n0 -->\n<g id=\"node1\" class=\"node\">\n<title>n0</title>\n<ellipse fill=\"lightblue\" stroke=\"lightblue\" cx=\"140\" cy=\"-192\" rx=\"39.79\" ry=\"18\"/>\n<text text-anchor=\"middle\" x=\"140\" y=\"-188.3\" font-family=\"Times,serif\" font-size=\"14.00\">Outlook</text>\n</g>\n<!-- n1 -->\n<g id=\"node2\" class=\"node\">\n<title>n1</title>\n<ellipse fill=\"lightblue\" stroke=\"lightblue\" cx=\"50\" cy=\"-105\" rx=\"44.69\" ry=\"18\"/>\n<text text-anchor=\"middle\" x=\"50\" y=\"-101.3\" font-family=\"Times,serif\" font-size=\"14.00\">Humidity</text>\n</g>\n<!-- n0&#45;&gt;n1 -->\n<g id=\"edge3\" class=\"edge\">\n<title>n0&#45;&gt;n1</title>\n<path fill=\"none\" stroke=\"black\" d=\"M122.38,-175.48C115.63,-169.46 107.9,-162.47 101,-156 91.77,-147.34 81.79,-137.63 73.12,-129.1\"/>\n<polygon fill=\"black\" stroke=\"black\" points=\"75.47,-126.49 65.9,-121.95 70.55,-131.47 75.47,-126.49\"/>\n<text text-anchor=\"middle\" x=\"118.5\" y=\"-144.8\" font-family=\"Times,serif\" font-size=\"14.00\">Sunny</text>\n</g>\n<!-- n4 -->\n<g id=\"node5\" class=\"node\">\n<title>n4</title>\n<polygon fill=\"lightgrey\" stroke=\"lightgrey\" points=\"167,-123 113,-123 113,-87 167,-87 167,-123\"/>\n<text text-anchor=\"middle\" x=\"140\" y=\"-101.3\" font-family=\"Times,serif\" font-size=\"14.00\">Yes</text>\n</g>\n<!-- n0&#45;&gt;n4 -->\n<g id=\"edge4\" class=\"edge\">\n<title>n0&#45;&gt;n4</title>\n<path fill=\"none\" stroke=\"black\" d=\"M140,-173.8C140,-162.16 140,-146.55 140,-133.24\"/>\n<polygon fill=\"black\" stroke=\"black\" points=\"143.5,-133.18 140,-123.18 136.5,-133.18 143.5,-133.18\"/>\n<text text-anchor=\"middle\" x=\"164.5\" y=\"-144.8\" font-family=\"Times,serif\" font-size=\"14.00\">Overcast</text>\n</g>\n<!-- n5 -->\n<g id=\"node6\" class=\"node\">\n<title>n5</title>\n<ellipse fill=\"lightblue\" stroke=\"lightblue\" cx=\"219\" cy=\"-105\" rx=\"34.39\" ry=\"18\"/>\n<text text-anchor=\"middle\" x=\"219\" y=\"-101.3\" font-family=\"Times,serif\" font-size=\"14.00\">Windy</text>\n</g>\n<!-- n0&#45;&gt;n5 -->\n<g id=\"edge7\" class=\"edge\">\n<title>n0&#45;&gt;n5</title>\n<path fill=\"none\" stroke=\"black\" d=\"M165.21,-177.98C174.74,-172.18 185.18,-164.68 193,-156 199.21,-149.1 204.39,-140.45 208.45,-132.29\"/>\n<polygon fill=\"black\" stroke=\"black\" points=\"211.69,-133.62 212.69,-123.07 205.33,-130.69 211.69,-133.62\"/>\n<text text-anchor=\"middle\" x=\"220.5\" y=\"-144.8\" font-family=\"Times,serif\" font-size=\"14.00\">Rainy</text>\n</g>\n<!-- n2 -->\n<g id=\"node3\" class=\"node\">\n<title>n2</title>\n<polygon fill=\"lightgrey\" stroke=\"lightgrey\" points=\"54,-36 0,-36 0,0 54,0 54,-36\"/>\n<text text-anchor=\"middle\" x=\"27\" y=\"-14.3\" font-family=\"Times,serif\" font-size=\"14.00\">No</text>\n</g>\n<!-- n1&#45;&gt;n2 -->\n<g id=\"edge1\" class=\"edge\">\n<title>n1&#45;&gt;n2</title>\n<path fill=\"none\" stroke=\"black\" d=\"M45.35,-86.8C42.17,-75.05 37.89,-59.24 34.26,-45.84\"/>\n<polygon fill=\"black\" stroke=\"black\" points=\"37.64,-44.91 31.65,-36.18 30.88,-46.74 37.64,-44.91\"/>\n<text text-anchor=\"middle\" x=\"54\" y=\"-57.8\" font-family=\"Times,serif\" font-size=\"14.00\">High</text>\n</g>\n<!-- n3 -->\n<g id=\"node4\" class=\"node\">\n<title>n3</title>\n<polygon fill=\"lightgrey\" stroke=\"lightgrey\" points=\"126,-36 72,-36 72,0 126,0 126,-36\"/>\n<text text-anchor=\"middle\" x=\"99\" y=\"-14.3\" font-family=\"Times,serif\" font-size=\"14.00\">Yes</text>\n</g>\n<!-- n1&#45;&gt;n3 -->\n<g id=\"edge2\" class=\"edge\">\n<title>n1&#45;&gt;n3</title>\n<path fill=\"none\" stroke=\"black\" d=\"M60.75,-87.4C64.4,-81.63 68.46,-75.08 72,-69 76.45,-61.37 81.1,-52.95 85.25,-45.24\"/>\n<polygon fill=\"black\" stroke=\"black\" points=\"88.41,-46.75 90.03,-36.28 82.24,-43.46 88.41,-46.75\"/>\n<text text-anchor=\"middle\" x=\"102.5\" y=\"-57.8\" font-family=\"Times,serif\" font-size=\"14.00\">Normal</text>\n</g>\n<!-- n6 -->\n<g id=\"node7\" class=\"node\">\n<title>n6</title>\n<polygon fill=\"lightgrey\" stroke=\"lightgrey\" points=\"222,-36 168,-36 168,0 222,0 222,-36\"/>\n<text text-anchor=\"middle\" x=\"195\" y=\"-14.3\" font-family=\"Times,serif\" font-size=\"14.00\">Yes</text>\n</g>\n<!-- n5&#45;&gt;n6 -->\n<g id=\"edge5\" class=\"edge\">\n<title>n5&#45;&gt;n6</title>\n<path fill=\"none\" stroke=\"black\" d=\"M214.14,-86.8C210.83,-75.05 206.36,-59.24 202.58,-45.84\"/>\n<polygon fill=\"black\" stroke=\"black\" points=\"205.94,-44.85 199.85,-36.18 199.2,-46.75 205.94,-44.85\"/>\n<text text-anchor=\"middle\" x=\"223.5\" y=\"-57.8\" font-family=\"Times,serif\" font-size=\"14.00\">False</text>\n</g>\n<!-- n7 -->\n<g id=\"node8\" class=\"node\">\n<title>n7</title>\n<polygon fill=\"lightgrey\" stroke=\"lightgrey\" points=\"294,-36 240,-36 240,0 294,0 294,-36\"/>\n<text text-anchor=\"middle\" x=\"267\" y=\"-14.3\" font-family=\"Times,serif\" font-size=\"14.00\">No</text>\n</g>\n<!-- n5&#45;&gt;n7 -->\n<g id=\"edge6\" class=\"edge\">\n<title>n5&#45;&gt;n7</title>\n<path fill=\"none\" stroke=\"black\" d=\"M230.17,-87.87C234.07,-82.02 238.37,-75.3 242,-69 246.29,-61.55 250.61,-53.27 254.41,-45.62\"/>\n<polygon fill=\"black\" stroke=\"black\" points=\"257.68,-46.91 258.93,-36.39 251.39,-43.84 257.68,-46.91\"/>\n<text text-anchor=\"middle\" x=\"263\" y=\"-57.8\" font-family=\"Times,serif\" font-size=\"14.00\">True</text>\n</g>\n</g>\n</svg>\n",
            "text/plain": [
              "<graphviz.sources.Source at 0x7fdc926bd640>"
            ]
          },
          "metadata": {}
        }
      ]
    },
    {
      "cell_type": "markdown",
      "source": [
        "DATASET02"
      ],
      "metadata": {
        "id": "e2uimloR9EQ1"
      }
    },
    {
      "cell_type": "code",
      "source": [
        "data = pd.DataFrame({\n",
        "\n",
        "    'CreditScore': ['High','High','Fair','Fair','Low','Low','Fair','High','Low','Fair'],\n",
        "    'Income':      ['High','High','Medium','Low','Low','Medium','Medium','Low','Low','High'],\n",
        "    'Collateral':  ['Good','None','Good','None','Good','None','None','Good','None','Good'],\n",
        "    'LoanApproved':['Yes','Yes','Yes','No','No','No','Yes','No','No','Yes']\n",
        "})\n",
        "\n",
        "\n",
        "target_col = \"LoanApproved\"\n",
        "tree = build_tree(data, target=target_col)\n",
        "print_tree(tree)\n",
        "\n",
        "graph = visualize_tree_graphviz(tree)\n",
        "display(Source(graph.source))"
      ],
      "metadata": {
        "colab": {
          "base_uri": "https://localhost:8080/",
          "height": 503
        },
        "id": "pOdYQbJe8he3",
        "outputId": "e6e45cbe-f24d-45cf-a37d-448cb44ab6ff"
      },
      "execution_count": 26,
      "outputs": [
        {
          "output_type": "stream",
          "name": "stdout",
          "text": [
            "[Income] (gini=0.133, samples=10)\n",
            "  └─ High:\n",
            "      → Yes (samples=3)\n",
            "  └─ Medium:\n",
            "      [CreditScore] (gini=0.0, samples=3)\n",
            "        └─ Fair:\n",
            "            → Yes (samples=2)\n",
            "        └─ Low:\n",
            "            → No (samples=1)\n",
            "  └─ Low:\n",
            "      → No (samples=4)\n"
          ]
        },
        {
          "output_type": "display_data",
          "data": {
            "image/svg+xml": "<?xml version=\"1.0\" encoding=\"UTF-8\" standalone=\"no\"?>\n<!DOCTYPE svg PUBLIC \"-//W3C//DTD SVG 1.1//EN\"\n \"http://www.w3.org/Graphics/SVG/1.1/DTD/svg11.dtd\">\n<!-- Generated by graphviz version 2.43.0 (0)\n -->\n<!-- Title: %3 Pages: 1 -->\n<svg width=\"258pt\" height=\"218pt\"\n viewBox=\"0.00 0.00 258.00 218.00\" xmlns=\"http://www.w3.org/2000/svg\" xmlns:xlink=\"http://www.w3.org/1999/xlink\">\n<g id=\"graph0\" class=\"graph\" transform=\"scale(1 1) rotate(0) translate(4 214)\">\n<title>%3</title>\n<polygon fill=\"white\" stroke=\"transparent\" points=\"-4,4 -4,-214 254,-214 254,4 -4,4\"/>\n<!-- n0 -->\n<g id=\"node1\" class=\"node\">\n<title>n0</title>\n<ellipse fill=\"lightblue\" stroke=\"lightblue\" cx=\"125\" cy=\"-192\" rx=\"37.89\" ry=\"18\"/>\n<text text-anchor=\"middle\" x=\"125\" y=\"-188.3\" font-family=\"Times,serif\" font-size=\"14.00\">Income</text>\n</g>\n<!-- n1 -->\n<g id=\"node2\" class=\"node\">\n<title>n1</title>\n<polygon fill=\"lightgrey\" stroke=\"lightgrey\" points=\"54,-123 0,-123 0,-87 54,-87 54,-123\"/>\n<text text-anchor=\"middle\" x=\"27\" y=\"-101.3\" font-family=\"Times,serif\" font-size=\"14.00\">Yes</text>\n</g>\n<!-- n0&#45;&gt;n1 -->\n<g id=\"edge1\" class=\"edge\">\n<title>n0&#45;&gt;n1</title>\n<path fill=\"none\" stroke=\"black\" d=\"M107.48,-175.8C92.81,-163.08 71.62,-144.7 54.66,-129.99\"/>\n<polygon fill=\"black\" stroke=\"black\" points=\"56.57,-127.02 46.73,-123.11 51.99,-132.31 56.57,-127.02\"/>\n<text text-anchor=\"middle\" x=\"96\" y=\"-144.8\" font-family=\"Times,serif\" font-size=\"14.00\">High</text>\n</g>\n<!-- n2 -->\n<g id=\"node3\" class=\"node\">\n<title>n2</title>\n<ellipse fill=\"lightblue\" stroke=\"lightblue\" cx=\"125\" cy=\"-105\" rx=\"52.79\" ry=\"18\"/>\n<text text-anchor=\"middle\" x=\"125\" y=\"-101.3\" font-family=\"Times,serif\" font-size=\"14.00\">CreditScore</text>\n</g>\n<!-- n0&#45;&gt;n2 -->\n<g id=\"edge4\" class=\"edge\">\n<title>n0&#45;&gt;n2</title>\n<path fill=\"none\" stroke=\"black\" d=\"M125,-173.8C125,-162.16 125,-146.55 125,-133.24\"/>\n<polygon fill=\"black\" stroke=\"black\" points=\"128.5,-133.18 125,-123.18 121.5,-133.18 128.5,-133.18\"/>\n<text text-anchor=\"middle\" x=\"149\" y=\"-144.8\" font-family=\"Times,serif\" font-size=\"14.00\">Medium</text>\n</g>\n<!-- n5 -->\n<g id=\"node6\" class=\"node\">\n<title>n5</title>\n<polygon fill=\"lightgrey\" stroke=\"lightgrey\" points=\"250,-123 196,-123 196,-87 250,-87 250,-123\"/>\n<text text-anchor=\"middle\" x=\"223\" y=\"-101.3\" font-family=\"Times,serif\" font-size=\"14.00\">No</text>\n</g>\n<!-- n0&#45;&gt;n5 -->\n<g id=\"edge5\" class=\"edge\">\n<title>n0&#45;&gt;n5</title>\n<path fill=\"none\" stroke=\"black\" d=\"M147.59,-177.44C157.04,-171.36 167.92,-163.8 177,-156 185.81,-148.43 194.66,-139.28 202.2,-130.89\"/>\n<polygon fill=\"black\" stroke=\"black\" points=\"205.02,-132.98 208.99,-123.15 199.76,-128.36 205.02,-132.98\"/>\n<text text-anchor=\"middle\" x=\"204.5\" y=\"-144.8\" font-family=\"Times,serif\" font-size=\"14.00\">Low</text>\n</g>\n<!-- n3 -->\n<g id=\"node4\" class=\"node\">\n<title>n3</title>\n<polygon fill=\"lightgrey\" stroke=\"lightgrey\" points=\"116,-36 62,-36 62,0 116,0 116,-36\"/>\n<text text-anchor=\"middle\" x=\"89\" y=\"-14.3\" font-family=\"Times,serif\" font-size=\"14.00\">Yes</text>\n</g>\n<!-- n2&#45;&gt;n3 -->\n<g id=\"edge2\" class=\"edge\">\n<title>n2&#45;&gt;n3</title>\n<path fill=\"none\" stroke=\"black\" d=\"M117.71,-86.8C112.69,-74.93 105.91,-58.93 100.2,-45.45\"/>\n<polygon fill=\"black\" stroke=\"black\" points=\"103.4,-44.02 96.27,-36.18 96.95,-46.75 103.4,-44.02\"/>\n<text text-anchor=\"middle\" x=\"121\" y=\"-57.8\" font-family=\"Times,serif\" font-size=\"14.00\">Fair</text>\n</g>\n<!-- n4 -->\n<g id=\"node5\" class=\"node\">\n<title>n4</title>\n<polygon fill=\"lightgrey\" stroke=\"lightgrey\" points=\"188,-36 134,-36 134,0 188,0 188,-36\"/>\n<text text-anchor=\"middle\" x=\"161\" y=\"-14.3\" font-family=\"Times,serif\" font-size=\"14.00\">No</text>\n</g>\n<!-- n2&#45;&gt;n4 -->\n<g id=\"edge3\" class=\"edge\">\n<title>n2&#45;&gt;n4</title>\n<path fill=\"none\" stroke=\"black\" d=\"M132.29,-86.8C137.31,-74.93 144.09,-58.93 149.8,-45.45\"/>\n<polygon fill=\"black\" stroke=\"black\" points=\"153.05,-46.75 153.73,-36.18 146.6,-44.02 153.05,-46.75\"/>\n<text text-anchor=\"middle\" x=\"158.5\" y=\"-57.8\" font-family=\"Times,serif\" font-size=\"14.00\">Low</text>\n</g>\n</g>\n</svg>\n",
            "text/plain": [
              "<graphviz.sources.Source at 0x7fdc926bd640>"
            ]
          },
          "metadata": {}
        }
      ]
    }
  ]
}